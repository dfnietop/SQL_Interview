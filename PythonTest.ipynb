{
 "cells": [
  {
   "cell_type": "markdown",
   "source": [
    "ejecicio 1: cambiar el valor de las variables con los menos pasos posibles\n",
    "a=1\n",
    "b=2\n",
    "se espera a=2 b= 1"
   ],
   "metadata": {
    "collapsed": false
   },
   "id": "698dbbc25b395b19"
  },
  {
   "cell_type": "code",
   "execution_count": 4,
   "outputs": [
    {
     "name": "stdout",
     "output_type": "stream",
     "text": [
      "a: 2 b: 1\n"
     ]
    }
   ],
   "source": [
    "a= 1\n",
    "b=2\n",
    "a,b = b,a\n",
    "print(f'a: {a} b: {b}' )\n"
   ],
   "metadata": {
    "collapsed": false,
    "ExecuteTime": {
     "end_time": "2023-09-27T19:47:16.223709900Z",
     "start_time": "2023-09-27T19:47:16.182582400Z"
    }
   },
   "id": "2385a6d681817ef3"
  },
  {
   "cell_type": "markdown",
   "source": [
    "ejercicio 2: dado la definición \n",
    "f0 = 0\n",
    "f1 = 1\n",
    "fn= fn-1 + fn-2\n",
    "Realizar un programa que dado un entero n calcule la suma de los numeros hasta n \n"
   ],
   "metadata": {
    "collapsed": false
   },
   "id": "1702c6e548f68f4a"
  },
  {
   "cell_type": "code",
   "execution_count": 19,
   "outputs": [
    {
     "name": "stdout",
     "output_type": "stream",
     "text": [
      "13\n"
     ]
    }
   ],
   "source": [
    "def fib(n):\n",
    "    # print(n)\n",
    "    if n == 0:\n",
    "        return 0\n",
    "    elif n == 1:\n",
    "        return 1\n",
    "    else:\n",
    "        return fib(n-1)+fib(n-2)\n",
    "    \n",
    "a = fib(7)\n",
    "print(a)\n",
    "    "
   ],
   "metadata": {
    "collapsed": false,
    "ExecuteTime": {
     "end_time": "2023-09-27T19:55:57.862887800Z",
     "start_time": "2023-09-27T19:55:57.821788200Z"
    }
   },
   "id": "deb9548c9a02a483"
  },
  {
   "cell_type": "markdown",
   "source": [
    "ejercicio 3: Dado un a palabra o una frase determinar si se lee de igual forma de adelante hacia atras y de atras hacia adelante:\n",
    "\"Isaac no ronca asi\"\n",
    "\"A mama Roma le aviva el amor a papa y a papa Roma le aviva el amor a mama\"\n",
    "\"A ti no bonita\""
   ],
   "metadata": {
    "collapsed": false
   },
   "id": "883f2186059064e5"
  },
  {
   "cell_type": "code",
   "execution_count": 60,
   "outputs": [],
   "source": [
    "def palindromo(cadena, inicio, fin):\n",
    "    if inicio >= fin:\n",
    "        return True\n",
    "    if cadena[inicio] == cadena[fin]:\n",
    "        return palindromo(cadena, inicio+1, fin-1)\n",
    "    else:\n",
    "        return False\n",
    "def limpiar(cadena:str):\n",
    "    return cadena.replace(\" \", \"\").lower()"
   ],
   "metadata": {
    "collapsed": false,
    "ExecuteTime": {
     "end_time": "2023-09-27T20:19:36.300591300Z",
     "start_time": "2023-09-27T20:19:36.291585100Z"
    }
   },
   "id": "a4e30fa68852f859"
  },
  {
   "cell_type": "code",
   "execution_count": 63,
   "outputs": [
    {
     "data": {
      "text/plain": "True"
     },
     "execution_count": 63,
     "metadata": {},
     "output_type": "execute_result"
    }
   ],
   "source": [
    "frase = \"A mama Roma le aviva el amor a papa y a papa Roma le aviva el amor a mama\"\n",
    "frase = limpiar(frase)\n",
    "palindromo(frase, 0, len(frase)-1)"
   ],
   "metadata": {
    "collapsed": false,
    "ExecuteTime": {
     "end_time": "2023-09-27T20:20:13.388631200Z",
     "start_time": "2023-09-27T20:20:13.363111200Z"
    }
   },
   "id": "e9dd263ada65d7b8"
  },
  {
   "cell_type": "markdown",
   "source": [
    "ejercicio 4: Dada una lista de palabras retorne una lista  eliminando las palabras repetidas\n",
    "ejemplo: ['carro', 'avion', 'carro', 'volar']\n",
    "ejemplo1: [' carro ', 'avion', 'carro', 'volar']\n",
    "valido ['carro', 'avion', 'volar']"
   ],
   "metadata": {
    "collapsed": false
   },
   "id": "98df240407982061"
  },
  {
   "cell_type": "code",
   "execution_count": 105,
   "outputs": [],
   "source": [
    "def eliminarPalabras(arreglo):\n",
    "    arreglo_limpio = []\n",
    "    for palabra in arreglo:\n",
    "        if palabra.replace(\" \",\"\").lower() not in arreglo_limpio:\n",
    "            arreglo_limpio.append(palabra.replace(\" \",\"\").lower())\n",
    "    # [arreglo_limpio.append(palabra.replace(\" \",\"\").lower()) for palabra in arreglo if palabra.replace(\" \",\"\").lower() not in arreglo_limpio]\n",
    "    return arreglo_limpio"
   ],
   "metadata": {
    "collapsed": false,
    "ExecuteTime": {
     "end_time": "2023-09-27T20:43:07.972824800Z",
     "start_time": "2023-09-27T20:43:07.943507400Z"
    }
   },
   "id": "cf5a8e86a31c540e"
  },
  {
   "cell_type": "code",
   "execution_count": 106,
   "outputs": [
    {
     "data": {
      "text/plain": "['carro', 'avion', 'volar']"
     },
     "execution_count": 106,
     "metadata": {},
     "output_type": "execute_result"
    }
   ],
   "source": [
    "\n",
    "arreglo = [\" carro \", \"avion\", \"carro\", \"volar\"]\n",
    "eliminarPalabras(arreglo)"
   ],
   "metadata": {
    "collapsed": false,
    "ExecuteTime": {
     "end_time": "2023-09-27T20:43:08.769889900Z",
     "start_time": "2023-09-27T20:43:08.762889300Z"
    }
   },
   "id": "6083def83c7f0fc"
  },
  {
   "cell_type": "code",
   "execution_count": 74,
   "outputs": [],
   "source": [],
   "metadata": {
    "collapsed": false,
    "ExecuteTime": {
     "end_time": "2023-09-27T20:31:09.202397600Z",
     "start_time": "2023-09-27T20:31:09.177905200Z"
    }
   },
   "id": "63de4e582123a38a"
  }
 ],
 "metadata": {
  "kernelspec": {
   "display_name": "Python 3",
   "language": "python",
   "name": "python3"
  },
  "language_info": {
   "codemirror_mode": {
    "name": "ipython",
    "version": 2
   },
   "file_extension": ".py",
   "mimetype": "text/x-python",
   "name": "python",
   "nbconvert_exporter": "python",
   "pygments_lexer": "ipython2",
   "version": "2.7.6"
  }
 },
 "nbformat": 4,
 "nbformat_minor": 5
}
