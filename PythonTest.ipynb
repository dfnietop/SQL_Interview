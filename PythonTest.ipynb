{
 "cells": [
  {
   "cell_type": "markdown",
   "source": [
    "Ejecicio 1: cambiar el valor de las variables con los menos pasos posibles\n",
    "a=1\n",
    "b=2\n",
    "se espera a=2 b= 1"
   ],
   "metadata": {
    "collapsed": false
   },
   "id": "698dbbc25b395b19"
  },
  {
   "cell_type": "code",
   "execution_count": 4,
   "outputs": [
    {
     "name": "stdout",
     "output_type": "stream",
     "text": [
      "a: 2 b: 1\n"
     ]
    }
   ],
   "source": [
    "\n"
   ],
   "metadata": {
    "collapsed": false,
    "ExecuteTime": {
     "end_time": "2023-09-27T19:47:16.223709900Z",
     "start_time": "2023-09-27T19:47:16.182582400Z"
    }
   },
   "id": "2385a6d681817ef3"
  },
  {
   "cell_type": "markdown",
   "source": [
    "Ejercicio 2: dado la definición \n",
    "f0 = 0\n",
    "f1 = 1\n",
    "fn= fn-1 + fn-2\n",
    "Realizar un programa que dado un entero n calcule la suma de los numeros hasta n \n"
   ],
   "metadata": {
    "collapsed": false
   },
   "id": "1702c6e548f68f4a"
  },
  {
   "cell_type": "code",
   "execution_count": 19,
   "outputs": [
    {
     "name": "stdout",
     "output_type": "stream",
     "text": [
      "13\n"
     ]
    }
   ],
   "source": [
    "\n",
    "    "
   ],
   "metadata": {
    "collapsed": false,
    "ExecuteTime": {
     "end_time": "2023-09-27T19:55:57.862887800Z",
     "start_time": "2023-09-27T19:55:57.821788200Z"
    }
   },
   "id": "deb9548c9a02a483"
  },
  {
   "cell_type": "markdown",
   "source": [
    "Ejercicio 3: Dado un a palabra o una frase determinar si se lee de igual forma de adelante hacia atras y de atras hacia adelante:\n",
    "\"aerea\"\n",
    "\"A mama Roma le aviva el amor a papa y a papa Roma le aviva el amor a mama\"\n",
    "\"A ti no bonita\""
   ],
   "metadata": {
    "collapsed": false
   },
   "id": "883f2186059064e5"
  },
  {
   "cell_type": "code",
   "execution_count": 3,
   "outputs": [],
   "source": [],
   "metadata": {
    "collapsed": false,
    "ExecuteTime": {
     "end_time": "2024-03-04T13:44:21.840085Z",
     "start_time": "2024-03-04T13:44:21.833644Z"
    }
   },
   "id": "a4e30fa68852f859"
  },
  {
   "cell_type": "markdown",
   "source": [
    "Ejercicio 4: Dada una lista de palabras retorne una lista  eliminando las palabras repetidas\n",
    "ejemplo: ['carro', 'avion', 'carro', 'volar']\n",
    "ejemplo1: [' carro ', 'avion', 'carro', 'volar']\n",
    "valido ['carro', 'avion', 'volar']"
   ],
   "metadata": {
    "collapsed": false
   },
   "id": "98df240407982061"
  },
  {
   "cell_type": "code",
   "execution_count": 105,
   "outputs": [],
   "source": [],
   "metadata": {
    "collapsed": false,
    "ExecuteTime": {
     "end_time": "2023-09-27T20:43:07.972824800Z",
     "start_time": "2023-09-27T20:43:07.943507400Z"
    }
   },
   "id": "cf5a8e86a31c540e"
  },
  {
   "cell_type": "code",
   "execution_count": 74,
   "outputs": [],
   "source": [
    "Ejercicio 5: Detectar y corregir los errores del siguiente programa que multiplica dos matrices:\n",
    "\n",
    "a = ((1, 2, 3),\n",
    "     (3, 2, 1))\n",
    "b = ((1, 2),\n",
    "     (3, 4),\n",
    "     (5, 6))\n",
    "\n",
    "def producto(a, b):\n",
    "    producto = []\n",
    "    for i in range(len(b)):\n",
    "        fila = []\n",
    "        for j in range(len(a[0])):\n",
    "            suma = 0\n",
    "            for k in range(len(a[0]+1)):\n",
    "                suma += a[i][k] * b[k+1][j]\n",
    "            fila[j] = suma\n",
    "        producto[i] = tuple(fila)\n",
    "    return tuple(producto)\n",
    "\n",
    "print(producto(a, b))\n",
    "\n"
   ],
   "metadata": {
    "collapsed": false,
    "ExecuteTime": {
     "end_time": "2023-09-27T20:31:09.202397600Z",
     "start_time": "2023-09-27T20:31:09.177905200Z"
    }
   },
   "id": "63de4e582123a38a"
  },
  {
   "metadata": {},
   "cell_type": "code",
   "outputs": [],
   "execution_count": null,
   "source": "",
   "id": "36ff782c882bc39b"
  },
  {
   "metadata": {},
   "cell_type": "code",
   "outputs": [],
   "execution_count": null,
   "source": [
    "Ejercicio 6\n",
    "Escribir una función que reciba una muestra de números en una lista y devuelva otra lista con sus cuadrados."
   ],
   "id": "e752b76a80a59228"
  },
  {
   "metadata": {},
   "cell_type": "code",
   "outputs": [],
   "execution_count": null,
   "source": "",
   "id": "7e5c9a2739997654"
  },
  {
   "metadata": {},
   "cell_type": "code",
   "outputs": [],
   "execution_count": null,
   "source": [
    "Ejercicio 7\n",
    "Escribir un programa que reciba una cadena de caracteres y devuelva un diccionario con cada palabra que contiene y su frecuencia. Escribir otra función que reciba el diccionario generado con la función anterior y devuelva una tupla con la palabra más repetida y su frecuencia."
   ],
   "id": "b13fcc4b329eb702"
  },
  {
   "metadata": {},
   "cell_type": "code",
   "outputs": [],
   "execution_count": null,
   "source": "",
   "id": "1401ee19473d2c0c"
  }
 ],
 "metadata": {
  "kernelspec": {
   "display_name": "Python 3",
   "language": "python",
   "name": "python3"
  },
  "language_info": {
   "codemirror_mode": {
    "name": "ipython",
    "version": 2
   },
   "file_extension": ".py",
   "mimetype": "text/x-python",
   "name": "python",
   "nbconvert_exporter": "python",
   "pygments_lexer": "ipython2",
   "version": "2.7.6"
  }
 },
 "nbformat": 4,
 "nbformat_minor": 5
}
