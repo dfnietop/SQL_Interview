{
 "cells": [
  {
   "cell_type": "markdown",
   "source": [
    "ESTA ES LA PRUEBA TECNICA DE SQL"
   ],
   "metadata": {
    "collapsed": false
   },
   "id": "5a61695b6ee71e20"
  },
  {
   "cell_type": "markdown",
   "source": [
    "PARA EJECTURA COMANDOS DE SQL CORRA EL SIGUIENTE CODIGO"
   ],
   "metadata": {
    "collapsed": false
   },
   "id": "399dccca277d27a1"
  },
  {
   "cell_type": "code",
   "execution_count": 1,
   "outputs": [],
   "source": [
    "%load_ext sql\n",
    "%config SqlMagic.feedback=False\n",
    "%config SqlMagic.autopandas=True\n",
    "%config SqlMagic.short_errors=False"
   ],
   "metadata": {
    "collapsed": false,
    "ExecuteTime": {
     "end_time": "2024-02-27T15:07:08.609440Z",
     "start_time": "2024-02-27T15:07:07.255448Z"
    }
   },
   "id": "d595bca29ccd1a77"
  },
  {
   "cell_type": "code",
   "execution_count": 2,
   "outputs": [],
   "source": [
    "%sql sqlite://"
   ],
   "metadata": {
    "collapsed": false,
    "ExecuteTime": {
     "end_time": "2024-02-27T15:07:08.611387Z",
     "start_time": "2024-02-27T15:07:08.431861Z"
    }
   },
   "id": "cfcea4607a4b3b0a"
  },
  {
   "cell_type": "code",
   "execution_count": 5,
   "outputs": [],
   "source": [
    " #Specifying the path of the database\n",
    "%sql sqlite:///chinook/chinook.db"
   ],
   "metadata": {
    "collapsed": false,
    "ExecuteTime": {
     "end_time": "2024-02-27T15:08:33.367948Z",
     "start_time": "2024-02-27T15:08:33.359990Z"
    }
   },
   "id": "ea3021e78dd45d66"
  },
  {
   "cell_type": "markdown",
   "source": [
    "![alternative text](chinook/chinook_model.jpg)"
   ],
   "metadata": {
    "collapsed": false
   },
   "id": "fef6201248ef71ea"
  },
  {
   "cell_type": "markdown",
   "source": [
    "PREGUNTA 1: Listar los generos mas vendidos de la tienda"
   ],
   "metadata": {
    "collapsed": false
   },
   "id": "233679cb6ba00813"
  },
  {
   "cell_type": "code",
   "execution_count": 7,
   "outputs": [
    {
     "name": "stdout",
     "output_type": "stream",
     "text": [
      "   sqlite://\n",
      " * sqlite:///chinook/chinook.db\n"
     ]
    },
    {
     "data": {
      "text/plain": "                  Name  count(quantity)\n0                 Rock              835\n1                Latin              386\n2                Metal              264\n3   Alternative & Punk              244\n4                 Jazz               80\n5                Blues               61\n6             TV Shows               47\n7             R&B/Soul               41\n8            Classical               41\n9               Reggae               30\n10               Drama               29\n11                 Pop               28\n12          Soundtrack               20\n13    Sci Fi & Fantasy               20\n14         Hip Hop/Rap               17\n15          Bossa Nova               15\n16         Alternative               14\n17               World               13\n18         Heavy Metal               12\n19   Electronica/Dance               12\n20      Easy Listening               10\n21              Comedy                9\n22     Science Fiction                6\n23       Rock And Roll                6\n24               Opera                0",
      "text/html": "<div>\n<style scoped>\n    .dataframe tbody tr th:only-of-type {\n        vertical-align: middle;\n    }\n\n    .dataframe tbody tr th {\n        vertical-align: top;\n    }\n\n    .dataframe thead th {\n        text-align: right;\n    }\n</style>\n<table border=\"1\" class=\"dataframe\">\n  <thead>\n    <tr style=\"text-align: right;\">\n      <th></th>\n      <th>Name</th>\n      <th>count(quantity)</th>\n    </tr>\n  </thead>\n  <tbody>\n    <tr>\n      <th>0</th>\n      <td>Rock</td>\n      <td>835</td>\n    </tr>\n    <tr>\n      <th>1</th>\n      <td>Latin</td>\n      <td>386</td>\n    </tr>\n    <tr>\n      <th>2</th>\n      <td>Metal</td>\n      <td>264</td>\n    </tr>\n    <tr>\n      <th>3</th>\n      <td>Alternative &amp; Punk</td>\n      <td>244</td>\n    </tr>\n    <tr>\n      <th>4</th>\n      <td>Jazz</td>\n      <td>80</td>\n    </tr>\n    <tr>\n      <th>5</th>\n      <td>Blues</td>\n      <td>61</td>\n    </tr>\n    <tr>\n      <th>6</th>\n      <td>TV Shows</td>\n      <td>47</td>\n    </tr>\n    <tr>\n      <th>7</th>\n      <td>R&amp;B/Soul</td>\n      <td>41</td>\n    </tr>\n    <tr>\n      <th>8</th>\n      <td>Classical</td>\n      <td>41</td>\n    </tr>\n    <tr>\n      <th>9</th>\n      <td>Reggae</td>\n      <td>30</td>\n    </tr>\n    <tr>\n      <th>10</th>\n      <td>Drama</td>\n      <td>29</td>\n    </tr>\n    <tr>\n      <th>11</th>\n      <td>Pop</td>\n      <td>28</td>\n    </tr>\n    <tr>\n      <th>12</th>\n      <td>Soundtrack</td>\n      <td>20</td>\n    </tr>\n    <tr>\n      <th>13</th>\n      <td>Sci Fi &amp; Fantasy</td>\n      <td>20</td>\n    </tr>\n    <tr>\n      <th>14</th>\n      <td>Hip Hop/Rap</td>\n      <td>17</td>\n    </tr>\n    <tr>\n      <th>15</th>\n      <td>Bossa Nova</td>\n      <td>15</td>\n    </tr>\n    <tr>\n      <th>16</th>\n      <td>Alternative</td>\n      <td>14</td>\n    </tr>\n    <tr>\n      <th>17</th>\n      <td>World</td>\n      <td>13</td>\n    </tr>\n    <tr>\n      <th>18</th>\n      <td>Heavy Metal</td>\n      <td>12</td>\n    </tr>\n    <tr>\n      <th>19</th>\n      <td>Electronica/Dance</td>\n      <td>12</td>\n    </tr>\n    <tr>\n      <th>20</th>\n      <td>Easy Listening</td>\n      <td>10</td>\n    </tr>\n    <tr>\n      <th>21</th>\n      <td>Comedy</td>\n      <td>9</td>\n    </tr>\n    <tr>\n      <th>22</th>\n      <td>Science Fiction</td>\n      <td>6</td>\n    </tr>\n    <tr>\n      <th>23</th>\n      <td>Rock And Roll</td>\n      <td>6</td>\n    </tr>\n    <tr>\n      <th>24</th>\n      <td>Opera</td>\n      <td>0</td>\n    </tr>\n  </tbody>\n</table>\n</div>"
     },
     "execution_count": 7,
     "metadata": {},
     "output_type": "execute_result"
    }
   ],
   "source": [
    "%%sql \n"
   ],
   "metadata": {
    "collapsed": false,
    "ExecuteTime": {
     "end_time": "2024-02-21T15:27:19.571732Z",
     "start_time": "2024-02-21T15:27:19.522148Z"
    }
   },
   "id": "56d6ef72006ead28"
  },
  {
   "cell_type": "markdown",
   "source": [
    "PREGUNTA 2: LISTAR LA CANTIDAD DE CANCIONES QUE TIENE UN ALBUM POR ARTISTA EL TOP 5 DE LOS ALBUMS QUE TIENEN MAS CANCIONES"
   ],
   "metadata": {
    "collapsed": false
   },
   "id": "d4d60841cbbc1e6"
  },
  {
   "cell_type": "code",
   "execution_count": 53,
   "outputs": [
    {
     "name": "stdout",
     "output_type": "stream",
     "text": [
      "   sqlite://\n",
      " * sqlite:///chinook/chinook.db\n"
     ]
    },
    {
     "data": {
      "text/plain": "            Name           Title  count(t.trackid)\n0  Lenny Kravitz   Greatest Hits                57\n1  Chico Buarque  Minha Historia                34\n2   Eric Clapton       Unplugged                30\n3           Lost  Lost, Season 3                26\n4           Lost  Lost, Season 1                25",
      "text/html": "<div>\n<style scoped>\n    .dataframe tbody tr th:only-of-type {\n        vertical-align: middle;\n    }\n\n    .dataframe tbody tr th {\n        vertical-align: top;\n    }\n\n    .dataframe thead th {\n        text-align: right;\n    }\n</style>\n<table border=\"1\" class=\"dataframe\">\n  <thead>\n    <tr style=\"text-align: right;\">\n      <th></th>\n      <th>Name</th>\n      <th>Title</th>\n      <th>count(t.trackid)</th>\n    </tr>\n  </thead>\n  <tbody>\n    <tr>\n      <th>0</th>\n      <td>Lenny Kravitz</td>\n      <td>Greatest Hits</td>\n      <td>57</td>\n    </tr>\n    <tr>\n      <th>1</th>\n      <td>Chico Buarque</td>\n      <td>Minha Historia</td>\n      <td>34</td>\n    </tr>\n    <tr>\n      <th>2</th>\n      <td>Eric Clapton</td>\n      <td>Unplugged</td>\n      <td>30</td>\n    </tr>\n    <tr>\n      <th>3</th>\n      <td>Lost</td>\n      <td>Lost, Season 3</td>\n      <td>26</td>\n    </tr>\n    <tr>\n      <th>4</th>\n      <td>Lost</td>\n      <td>Lost, Season 1</td>\n      <td>25</td>\n    </tr>\n  </tbody>\n</table>\n</div>"
     },
     "execution_count": 53,
     "metadata": {},
     "output_type": "execute_result"
    }
   ],
   "source": [
    "%%sql \n"
   ],
   "metadata": {
    "collapsed": false,
    "ExecuteTime": {
     "end_time": "2023-09-20T21:26:18.812738500Z",
     "start_time": "2023-09-20T21:26:18.716810700Z"
    }
   },
   "id": "de41a44abf67554b"
  },
  {
   "cell_type": "markdown",
   "source": [
    "PREGUNTA 3: listar todos los empleados que tuvieron un soporte a usuarios"
   ],
   "metadata": {
    "collapsed": false
   },
   "id": "10054c9db4538af4"
  },
  {
   "cell_type": "code",
   "execution_count": 92,
   "outputs": [
    {
     "name": "stdout",
     "output_type": "stream",
     "text": [
      "   sqlite://\n",
      " * sqlite:///chinook/chinook.db\n"
     ]
    },
    {
     "data": {
      "text/plain": "  LastName FirstName          Title LastName FirstName                Title  \\\n0  Edwards     Nancy  Sales Manager  Peacock      Jane  Sales Support Agent   \n1  Edwards     Nancy  Sales Manager     Park  Margaret  Sales Support Agent   \n2  Edwards     Nancy  Sales Manager  Johnson     Steve  Sales Support Agent   \n\n   count(1)  \n0        21  \n1        20  \n2        18  ",
      "text/html": "<div>\n<style scoped>\n    .dataframe tbody tr th:only-of-type {\n        vertical-align: middle;\n    }\n\n    .dataframe tbody tr th {\n        vertical-align: top;\n    }\n\n    .dataframe thead th {\n        text-align: right;\n    }\n</style>\n<table border=\"1\" class=\"dataframe\">\n  <thead>\n    <tr style=\"text-align: right;\">\n      <th></th>\n      <th>LastName</th>\n      <th>FirstName</th>\n      <th>Title</th>\n      <th>LastName</th>\n      <th>FirstName</th>\n      <th>Title</th>\n      <th>count(1)</th>\n    </tr>\n  </thead>\n  <tbody>\n    <tr>\n      <th>0</th>\n      <td>Edwards</td>\n      <td>Nancy</td>\n      <td>Sales Manager</td>\n      <td>Peacock</td>\n      <td>Jane</td>\n      <td>Sales Support Agent</td>\n      <td>21</td>\n    </tr>\n    <tr>\n      <th>1</th>\n      <td>Edwards</td>\n      <td>Nancy</td>\n      <td>Sales Manager</td>\n      <td>Park</td>\n      <td>Margaret</td>\n      <td>Sales Support Agent</td>\n      <td>20</td>\n    </tr>\n    <tr>\n      <th>2</th>\n      <td>Edwards</td>\n      <td>Nancy</td>\n      <td>Sales Manager</td>\n      <td>Johnson</td>\n      <td>Steve</td>\n      <td>Sales Support Agent</td>\n      <td>18</td>\n    </tr>\n  </tbody>\n</table>\n</div>"
     },
     "execution_count": 92,
     "metadata": {},
     "output_type": "execute_result"
    }
   ],
   "source": [
    "%%sql\n"
   ],
   "metadata": {
    "collapsed": false,
    "ExecuteTime": {
     "start_time": "2023-09-20T21:43:35.391428400Z"
    }
   },
   "id": "e1583164a378e97b"
  },
  {
   "cell_type": "code",
   "execution_count": null,
   "outputs": [],
   "source": [
    "PREGUNTA 4: REALICE UN RANKING DE TODAS LAS CIUDADES Y PAISES DONDE SE ANALISE EL TOTAL DE VENTAS Y LA CANTIDAD DE UNIDADES VENDIDAS "
   ],
   "metadata": {
    "collapsed": false
   },
   "id": "d455f2ec290b3e4"
  },
  {
   "cell_type": "code",
   "execution_count": 115,
   "outputs": [
    {
     "name": "stdout",
     "output_type": "stream",
     "text": [
      "   sqlite://\n",
      " * sqlite:///chinook/chinook.db\n"
     ]
    },
    {
     "data": {
      "text/plain": "           country                 city  sum_total  sum_quantity  rank_total  \\\n0              USA        Mountain View    4667.06           494           1   \n1           Canada             Montréal    2689.96           304           2   \n2           France                Paris    1722.10           190           3   \n3           Brazil  São José dos Campos    1677.10           190           4   \n4          Germany            Stuttgart    1392.48           152           5   \n5   United Kingdom               London    1003.86           114           6   \n6   Czech Republic               Prague     879.24            76           7   \n7         Portugal               Lisbon     687.24            76           8   \n8            India                Delhi     667.28            74           9   \n9          Hungary             Budapest     446.62            38          10   \n10         Ireland               Dublin     446.62            38          11   \n11           Chile             Santiago     415.62            38          12   \n12         Austria               Vienne     404.62            38          13   \n13          Norway                 Oslo     362.62            38          14   \n14     Netherlands            Amsterdam     352.62            38          15   \n15         Finland             Helsinki     350.62            38          16   \n16          Sweden            Stockholm     340.62            38          17   \n17       Argentina         Buenos Aires     334.62            38          18   \n18       Australia               Sidney     334.62            38          19   \n19         Denmark           Copenhagen     334.62            38          20   \n20           Italy                 Rome     334.62            38          21   \n21         Belgium             Brussels     334.62            38          22   \n22          Poland               Warsaw     334.62            38          23   \n23           Spain               Madrid     334.62            38          24   \n\n    rank_quantity  \n0               1  \n1               2  \n2               4  \n3               3  \n4               5  \n5               6  \n6               7  \n7               8  \n8               9  \n9              17  \n10             18  \n11             14  \n12             12  \n13             21  \n14             20  \n15             16  \n16             24  \n17             10  \n18             11  \n19             15  \n20             19  \n21             13  \n22             22  \n23             23  ",
      "text/html": "<div>\n<style scoped>\n    .dataframe tbody tr th:only-of-type {\n        vertical-align: middle;\n    }\n\n    .dataframe tbody tr th {\n        vertical-align: top;\n    }\n\n    .dataframe thead th {\n        text-align: right;\n    }\n</style>\n<table border=\"1\" class=\"dataframe\">\n  <thead>\n    <tr style=\"text-align: right;\">\n      <th></th>\n      <th>country</th>\n      <th>city</th>\n      <th>sum_total</th>\n      <th>sum_quantity</th>\n      <th>rank_total</th>\n      <th>rank_quantity</th>\n    </tr>\n  </thead>\n  <tbody>\n    <tr>\n      <th>0</th>\n      <td>USA</td>\n      <td>Mountain View</td>\n      <td>4667.06</td>\n      <td>494</td>\n      <td>1</td>\n      <td>1</td>\n    </tr>\n    <tr>\n      <th>1</th>\n      <td>Canada</td>\n      <td>Montréal</td>\n      <td>2689.96</td>\n      <td>304</td>\n      <td>2</td>\n      <td>2</td>\n    </tr>\n    <tr>\n      <th>2</th>\n      <td>France</td>\n      <td>Paris</td>\n      <td>1722.10</td>\n      <td>190</td>\n      <td>3</td>\n      <td>4</td>\n    </tr>\n    <tr>\n      <th>3</th>\n      <td>Brazil</td>\n      <td>São José dos Campos</td>\n      <td>1677.10</td>\n      <td>190</td>\n      <td>4</td>\n      <td>3</td>\n    </tr>\n    <tr>\n      <th>4</th>\n      <td>Germany</td>\n      <td>Stuttgart</td>\n      <td>1392.48</td>\n      <td>152</td>\n      <td>5</td>\n      <td>5</td>\n    </tr>\n    <tr>\n      <th>5</th>\n      <td>United Kingdom</td>\n      <td>London</td>\n      <td>1003.86</td>\n      <td>114</td>\n      <td>6</td>\n      <td>6</td>\n    </tr>\n    <tr>\n      <th>6</th>\n      <td>Czech Republic</td>\n      <td>Prague</td>\n      <td>879.24</td>\n      <td>76</td>\n      <td>7</td>\n      <td>7</td>\n    </tr>\n    <tr>\n      <th>7</th>\n      <td>Portugal</td>\n      <td>Lisbon</td>\n      <td>687.24</td>\n      <td>76</td>\n      <td>8</td>\n      <td>8</td>\n    </tr>\n    <tr>\n      <th>8</th>\n      <td>India</td>\n      <td>Delhi</td>\n      <td>667.28</td>\n      <td>74</td>\n      <td>9</td>\n      <td>9</td>\n    </tr>\n    <tr>\n      <th>9</th>\n      <td>Hungary</td>\n      <td>Budapest</td>\n      <td>446.62</td>\n      <td>38</td>\n      <td>10</td>\n      <td>17</td>\n    </tr>\n    <tr>\n      <th>10</th>\n      <td>Ireland</td>\n      <td>Dublin</td>\n      <td>446.62</td>\n      <td>38</td>\n      <td>11</td>\n      <td>18</td>\n    </tr>\n    <tr>\n      <th>11</th>\n      <td>Chile</td>\n      <td>Santiago</td>\n      <td>415.62</td>\n      <td>38</td>\n      <td>12</td>\n      <td>14</td>\n    </tr>\n    <tr>\n      <th>12</th>\n      <td>Austria</td>\n      <td>Vienne</td>\n      <td>404.62</td>\n      <td>38</td>\n      <td>13</td>\n      <td>12</td>\n    </tr>\n    <tr>\n      <th>13</th>\n      <td>Norway</td>\n      <td>Oslo</td>\n      <td>362.62</td>\n      <td>38</td>\n      <td>14</td>\n      <td>21</td>\n    </tr>\n    <tr>\n      <th>14</th>\n      <td>Netherlands</td>\n      <td>Amsterdam</td>\n      <td>352.62</td>\n      <td>38</td>\n      <td>15</td>\n      <td>20</td>\n    </tr>\n    <tr>\n      <th>15</th>\n      <td>Finland</td>\n      <td>Helsinki</td>\n      <td>350.62</td>\n      <td>38</td>\n      <td>16</td>\n      <td>16</td>\n    </tr>\n    <tr>\n      <th>16</th>\n      <td>Sweden</td>\n      <td>Stockholm</td>\n      <td>340.62</td>\n      <td>38</td>\n      <td>17</td>\n      <td>24</td>\n    </tr>\n    <tr>\n      <th>17</th>\n      <td>Argentina</td>\n      <td>Buenos Aires</td>\n      <td>334.62</td>\n      <td>38</td>\n      <td>18</td>\n      <td>10</td>\n    </tr>\n    <tr>\n      <th>18</th>\n      <td>Australia</td>\n      <td>Sidney</td>\n      <td>334.62</td>\n      <td>38</td>\n      <td>19</td>\n      <td>11</td>\n    </tr>\n    <tr>\n      <th>19</th>\n      <td>Denmark</td>\n      <td>Copenhagen</td>\n      <td>334.62</td>\n      <td>38</td>\n      <td>20</td>\n      <td>15</td>\n    </tr>\n    <tr>\n      <th>20</th>\n      <td>Italy</td>\n      <td>Rome</td>\n      <td>334.62</td>\n      <td>38</td>\n      <td>21</td>\n      <td>19</td>\n    </tr>\n    <tr>\n      <th>21</th>\n      <td>Belgium</td>\n      <td>Brussels</td>\n      <td>334.62</td>\n      <td>38</td>\n      <td>22</td>\n      <td>13</td>\n    </tr>\n    <tr>\n      <th>22</th>\n      <td>Poland</td>\n      <td>Warsaw</td>\n      <td>334.62</td>\n      <td>38</td>\n      <td>23</td>\n      <td>22</td>\n    </tr>\n    <tr>\n      <th>23</th>\n      <td>Spain</td>\n      <td>Madrid</td>\n      <td>334.62</td>\n      <td>38</td>\n      <td>24</td>\n      <td>23</td>\n    </tr>\n  </tbody>\n</table>\n</div>"
     },
     "execution_count": 115,
     "metadata": {},
     "output_type": "execute_result"
    }
   ],
   "source": [
    "%%sql\n",
    "\n",
    "\n"
   ],
   "metadata": {
    "collapsed": false,
    "ExecuteTime": {
     "end_time": "2023-09-20T22:53:13.259804800Z",
     "start_time": "2023-09-20T22:53:13.158477300Z"
    }
   },
   "id": "ae22e75bd3a36eb9"
  },
  {
   "cell_type": "code",
   "execution_count": 49,
   "outputs": [],
   "source": [],
   "metadata": {
    "collapsed": false,
    "ExecuteTime": {
     "end_time": "2023-09-20T21:25:12.134802400Z",
     "start_time": "2023-09-20T21:25:11.857855600Z"
    }
   },
   "id": "7a46e4badcf2ce17"
  }
 ],
 "metadata": {
  "kernelspec": {
   "display_name": "Python 3",
   "language": "python",
   "name": "python3"
  },
  "language_info": {
   "codemirror_mode": {
    "name": "ipython",
    "version": 2
   },
   "file_extension": ".py",
   "mimetype": "text/x-python",
   "name": "python",
   "nbconvert_exporter": "python",
   "pygments_lexer": "ipython2",
   "version": "2.7.6"
  }
 },
 "nbformat": 4,
 "nbformat_minor": 5
}
