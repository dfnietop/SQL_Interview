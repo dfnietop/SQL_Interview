{
 "cells": [
  {
   "cell_type": "markdown",
   "source": [
    "ESTA ES LA PRUEBA TECNICA DE SQL"
   ],
   "metadata": {
    "collapsed": false
   },
   "id": "5a61695b6ee71e20"
  },
  {
   "cell_type": "markdown",
   "source": [
    "PARA EJECTURA COMANDOS DE SQL CORRA EL SIGUIENTE CODIGO"
   ],
   "metadata": {
    "collapsed": false
   },
   "id": "399dccca277d27a1"
  },
  {
   "cell_type": "code",
   "execution_count": 1,
   "outputs": [],
   "source": [
    "%load_ext sql"
   ],
   "metadata": {
    "collapsed": false,
    "ExecuteTime": {
     "start_time": "2023-09-07T16:56:40.335343200Z"
    }
   },
   "id": "d595bca29ccd1a77"
  },
  {
   "cell_type": "code",
   "execution_count": 2,
   "outputs": [],
   "source": [
    "%sql sqlite://"
   ],
   "metadata": {
    "collapsed": false,
    "ExecuteTime": {
     "end_time": "2023-09-07T16:56:42.970672300Z",
     "start_time": "2023-09-07T16:56:42.921353700Z"
    }
   },
   "id": "cfcea4607a4b3b0a"
  },
  {
   "cell_type": "code",
   "execution_count": 3,
   "outputs": [],
   "source": [
    " #Specifying the path of the database\n",
    "%sql sqlite:///chinook/chinook.db"
   ],
   "metadata": {
    "collapsed": false,
    "ExecuteTime": {
     "end_time": "2023-09-07T16:56:43.906139600Z",
     "start_time": "2023-09-07T16:56:43.890068600Z"
    }
   },
   "id": "ea3021e78dd45d66"
  },
  {
   "cell_type": "markdown",
   "source": [
    "![alternative text](chinook/chinook_model.jpg)"
   ],
   "metadata": {
    "collapsed": false
   },
   "id": "fef6201248ef71ea"
  },
  {
   "cell_type": "markdown",
   "source": [
    "PREGUNTA 1: SE NECESITA TODOS LOS TIPOS DE FORMATOS DE MUSICA"
   ],
   "metadata": {
    "collapsed": false
   },
   "id": "233679cb6ba00813"
  },
  {
   "cell_type": "code",
   "execution_count": 21,
   "outputs": [
    {
     "name": "stdout",
     "output_type": "stream",
     "text": [
      "   sqlite://\n",
      " * sqlite:///chinook/chinook.db\n",
      "Done.\n"
     ]
    },
    {
     "data": {
      "text/plain": "[(1, 'MPEG audio file'),\n (2, 'Protected AAC audio file'),\n (3, 'Protected MPEG-4 video file'),\n (4, 'Purchased AAC audio file'),\n (5, 'AAC audio file')]",
      "text/html": "<table>\n    <thead>\n        <tr>\n            <th>MediaTypeId</th>\n            <th>Name</th>\n        </tr>\n    </thead>\n    <tbody>\n        <tr>\n            <td>1</td>\n            <td>MPEG audio file</td>\n        </tr>\n        <tr>\n            <td>2</td>\n            <td>Protected AAC audio file</td>\n        </tr>\n        <tr>\n            <td>3</td>\n            <td>Protected MPEG-4 video file</td>\n        </tr>\n        <tr>\n            <td>4</td>\n            <td>Purchased AAC audio file</td>\n        </tr>\n        <tr>\n            <td>5</td>\n            <td>AAC audio file</td>\n        </tr>\n    </tbody>\n</table>"
     },
     "execution_count": 21,
     "metadata": {},
     "output_type": "execute_result"
    }
   ],
   "source": [
    "%sql SELECT * from media_types"
   ],
   "metadata": {
    "collapsed": false,
    "ExecuteTime": {
     "end_time": "2023-09-07T17:14:29.558812200Z",
     "start_time": "2023-09-07T17:14:29.518928800Z"
    }
   },
   "id": "56d6ef72006ead28"
  },
  {
   "cell_type": "markdown",
   "source": [
    "PREGUNTA 2: LISTAR LA CANTIDAD DE CANCIONES QUE TIENE UN ALBUM POR ARTISTA EL TOP 5 DE LOS ALBUMS QUE TIENEN MAS CANCIONES"
   ],
   "metadata": {
    "collapsed": false
   },
   "id": "d4d60841cbbc1e6"
  },
  {
   "cell_type": "code",
   "execution_count": 23,
   "outputs": [
    {
     "name": "stdout",
     "output_type": "stream",
     "text": [
      "   sqlite://\n",
      " * sqlite:///chinook/chinook.db\n",
      "Done.\n"
     ]
    },
    {
     "data": {
      "text/plain": "[('Lenny Kravitz', 'Greatest Hits', 57),\n ('Chico Buarque', 'Minha Historia', 34),\n ('Eric Clapton', 'Unplugged', 30),\n ('Lost', 'Lost, Season 3', 26),\n ('Lost', 'Lost, Season 1', 25)]",
      "text/html": "<table>\n    <thead>\n        <tr>\n            <th>Name</th>\n            <th>Title</th>\n            <th>count(t.trackid)</th>\n        </tr>\n    </thead>\n    <tbody>\n        <tr>\n            <td>Lenny Kravitz</td>\n            <td>Greatest Hits</td>\n            <td>57</td>\n        </tr>\n        <tr>\n            <td>Chico Buarque</td>\n            <td>Minha Historia</td>\n            <td>34</td>\n        </tr>\n        <tr>\n            <td>Eric Clapton</td>\n            <td>Unplugged</td>\n            <td>30</td>\n        </tr>\n        <tr>\n            <td>Lost</td>\n            <td>Lost, Season 3</td>\n            <td>26</td>\n        </tr>\n        <tr>\n            <td>Lost</td>\n            <td>Lost, Season 1</td>\n            <td>25</td>\n        </tr>\n    </tbody>\n</table>"
     },
     "execution_count": 23,
     "metadata": {},
     "output_type": "execute_result"
    }
   ],
   "source": [
    "%sql select a.name, b.title, count(t.trackid) from artists a left join albums b on a.artistid= b.artistid left join tracks t on t.albumid= b.albumid group by 1,2 ORDER BY 3 DESC LIMIT 5;"
   ],
   "metadata": {
    "collapsed": false,
    "ExecuteTime": {
     "end_time": "2023-09-07T17:22:34.184982400Z",
     "start_time": "2023-09-07T17:22:34.148842200Z"
    }
   },
   "id": "de41a44abf67554b"
  },
  {
   "cell_type": "code",
   "execution_count": null,
   "outputs": [],
   "source": [],
   "metadata": {
    "collapsed": false
   },
   "id": "e1583164a378e97b"
  }
 ],
 "metadata": {
  "kernelspec": {
   "display_name": "Python 3",
   "language": "python",
   "name": "python3"
  },
  "language_info": {
   "codemirror_mode": {
    "name": "ipython",
    "version": 2
   },
   "file_extension": ".py",
   "mimetype": "text/x-python",
   "name": "python",
   "nbconvert_exporter": "python",
   "pygments_lexer": "ipython2",
   "version": "2.7.6"
  }
 },
 "nbformat": 4,
 "nbformat_minor": 5
}
